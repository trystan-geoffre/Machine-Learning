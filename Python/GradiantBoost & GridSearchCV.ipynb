{
 "cells": [
  {
   "cell_type": "markdown",
   "id": "9ba9d2ff",
   "metadata": {},
   "source": [
    "This code was initially developed for the Boston Housing dataset, which is no longer available. \n",
    "However, the California dataset was utilized as an alternative, yielding results that are less conclusive but sufficient for the purposes of GradiantBoost implementation"
   ]
  },
  {
   "cell_type": "code",
   "execution_count": 18,
   "id": "7a681e70",
   "metadata": {},
   "outputs": [],
   "source": [
    "# Import Libraries\n",
    "import numpy as np\n",
    "import matplotlib.pyplot as plt\n",
    "import pandas as pd\n",
    "from sklearn.ensemble import GradientBoostingRegressor\n",
    "from sklearn.model_selection import train_test_split\n",
    "from sklearn.datasets import fetch_california_housing\n",
    "from sklearn.metrics import mean_squared_error\n",
    "from sklearn.metrics import mean_absolute_error\n",
    "from sklearn.metrics import r2_score\n",
    "from sklearn.model_selection import GridSearchCV\n",
    "import warnings\n",
    "warnings.filterwarnings('ignore')"
   ]
  },
  {
   "cell_type": "code",
   "execution_count": 6,
   "id": "7920ae25",
   "metadata": {},
   "outputs": [],
   "source": [
    "# Loading the California Housing dataset from SKLearn\n",
    "california=fetch_california_housing()\n",
    "\n",
    "# Creating a DataFrame 'X' to store the feature values (data) of the California dataset\n",
    "X = pd.DataFrame(california.data, columns = california.feature_names)\n",
    "\n",
    "# Creating a DataFrame 'y' to store the target values (housing prices) of the California dataset\n",
    "y=pd.DataFrame(california.target)"
   ]
  },
  {
   "cell_type": "code",
   "execution_count": 7,
   "id": "b8d726be",
   "metadata": {},
   "outputs": [
    {
     "data": {
      "text/html": [
       "<div>\n",
       "<style scoped>\n",
       "    .dataframe tbody tr th:only-of-type {\n",
       "        vertical-align: middle;\n",
       "    }\n",
       "\n",
       "    .dataframe tbody tr th {\n",
       "        vertical-align: top;\n",
       "    }\n",
       "\n",
       "    .dataframe thead th {\n",
       "        text-align: right;\n",
       "    }\n",
       "</style>\n",
       "<table border=\"1\" class=\"dataframe\">\n",
       "  <thead>\n",
       "    <tr style=\"text-align: right;\">\n",
       "      <th></th>\n",
       "      <th>MedInc</th>\n",
       "      <th>HouseAge</th>\n",
       "      <th>AveRooms</th>\n",
       "      <th>AveBedrms</th>\n",
       "      <th>Population</th>\n",
       "      <th>AveOccup</th>\n",
       "      <th>Latitude</th>\n",
       "      <th>Longitude</th>\n",
       "    </tr>\n",
       "  </thead>\n",
       "  <tbody>\n",
       "    <tr>\n",
       "      <th>0</th>\n",
       "      <td>8.3252</td>\n",
       "      <td>41.0</td>\n",
       "      <td>6.984127</td>\n",
       "      <td>1.023810</td>\n",
       "      <td>322.0</td>\n",
       "      <td>2.555556</td>\n",
       "      <td>37.88</td>\n",
       "      <td>-122.23</td>\n",
       "    </tr>\n",
       "    <tr>\n",
       "      <th>1</th>\n",
       "      <td>8.3014</td>\n",
       "      <td>21.0</td>\n",
       "      <td>6.238137</td>\n",
       "      <td>0.971880</td>\n",
       "      <td>2401.0</td>\n",
       "      <td>2.109842</td>\n",
       "      <td>37.86</td>\n",
       "      <td>-122.22</td>\n",
       "    </tr>\n",
       "    <tr>\n",
       "      <th>2</th>\n",
       "      <td>7.2574</td>\n",
       "      <td>52.0</td>\n",
       "      <td>8.288136</td>\n",
       "      <td>1.073446</td>\n",
       "      <td>496.0</td>\n",
       "      <td>2.802260</td>\n",
       "      <td>37.85</td>\n",
       "      <td>-122.24</td>\n",
       "    </tr>\n",
       "    <tr>\n",
       "      <th>3</th>\n",
       "      <td>5.6431</td>\n",
       "      <td>52.0</td>\n",
       "      <td>5.817352</td>\n",
       "      <td>1.073059</td>\n",
       "      <td>558.0</td>\n",
       "      <td>2.547945</td>\n",
       "      <td>37.85</td>\n",
       "      <td>-122.25</td>\n",
       "    </tr>\n",
       "    <tr>\n",
       "      <th>4</th>\n",
       "      <td>3.8462</td>\n",
       "      <td>52.0</td>\n",
       "      <td>6.281853</td>\n",
       "      <td>1.081081</td>\n",
       "      <td>565.0</td>\n",
       "      <td>2.181467</td>\n",
       "      <td>37.85</td>\n",
       "      <td>-122.25</td>\n",
       "    </tr>\n",
       "  </tbody>\n",
       "</table>\n",
       "</div>"
      ],
      "text/plain": [
       "   MedInc  HouseAge  AveRooms  AveBedrms  Population  AveOccup  Latitude  \\\n",
       "0  8.3252      41.0  6.984127   1.023810       322.0  2.555556     37.88   \n",
       "1  8.3014      21.0  6.238137   0.971880      2401.0  2.109842     37.86   \n",
       "2  7.2574      52.0  8.288136   1.073446       496.0  2.802260     37.85   \n",
       "3  5.6431      52.0  5.817352   1.073059       558.0  2.547945     37.85   \n",
       "4  3.8462      52.0  6.281853   1.081081       565.0  2.181467     37.85   \n",
       "\n",
       "   Longitude  \n",
       "0    -122.23  \n",
       "1    -122.22  \n",
       "2    -122.24  \n",
       "3    -122.25  \n",
       "4    -122.25  "
      ]
     },
     "execution_count": 7,
     "metadata": {},
     "output_type": "execute_result"
    }
   ],
   "source": [
    "# Extracting the first 5 rows of the 'X' DataFrame\n",
    "X.head()"
   ]
  },
  {
   "cell_type": "code",
   "execution_count": 8,
   "id": "ac1c6169",
   "metadata": {},
   "outputs": [
    {
     "data": {
      "text/html": [
       "<div>\n",
       "<style scoped>\n",
       "    .dataframe tbody tr th:only-of-type {\n",
       "        vertical-align: middle;\n",
       "    }\n",
       "\n",
       "    .dataframe tbody tr th {\n",
       "        vertical-align: top;\n",
       "    }\n",
       "\n",
       "    .dataframe thead th {\n",
       "        text-align: right;\n",
       "    }\n",
       "</style>\n",
       "<table border=\"1\" class=\"dataframe\">\n",
       "  <thead>\n",
       "    <tr style=\"text-align: right;\">\n",
       "      <th></th>\n",
       "      <th>0</th>\n",
       "    </tr>\n",
       "  </thead>\n",
       "  <tbody>\n",
       "    <tr>\n",
       "      <th>0</th>\n",
       "      <td>4.526</td>\n",
       "    </tr>\n",
       "    <tr>\n",
       "      <th>1</th>\n",
       "      <td>3.585</td>\n",
       "    </tr>\n",
       "    <tr>\n",
       "      <th>2</th>\n",
       "      <td>3.521</td>\n",
       "    </tr>\n",
       "    <tr>\n",
       "      <th>3</th>\n",
       "      <td>3.413</td>\n",
       "    </tr>\n",
       "    <tr>\n",
       "      <th>4</th>\n",
       "      <td>3.422</td>\n",
       "    </tr>\n",
       "    <tr>\n",
       "      <th>5</th>\n",
       "      <td>2.697</td>\n",
       "    </tr>\n",
       "    <tr>\n",
       "      <th>6</th>\n",
       "      <td>2.992</td>\n",
       "    </tr>\n",
       "    <tr>\n",
       "      <th>7</th>\n",
       "      <td>2.414</td>\n",
       "    </tr>\n",
       "    <tr>\n",
       "      <th>8</th>\n",
       "      <td>2.267</td>\n",
       "    </tr>\n",
       "    <tr>\n",
       "      <th>9</th>\n",
       "      <td>2.611</td>\n",
       "    </tr>\n",
       "  </tbody>\n",
       "</table>\n",
       "</div>"
      ],
      "text/plain": [
       "       0\n",
       "0  4.526\n",
       "1  3.585\n",
       "2  3.521\n",
       "3  3.413\n",
       "4  3.422\n",
       "5  2.697\n",
       "6  2.992\n",
       "7  2.414\n",
       "8  2.267\n",
       "9  2.611"
      ]
     },
     "execution_count": 8,
     "metadata": {},
     "output_type": "execute_result"
    }
   ],
   "source": [
    "# Extracting the first 10 rows of the 'y' DataFrame\n",
    "y[0:10]"
   ]
  },
  {
   "cell_type": "code",
   "execution_count": 9,
   "id": "1002c288",
   "metadata": {},
   "outputs": [],
   "source": [
    "# Splitting the data into training and testing sets\n",
    "# X: Features (data)\n",
    "# y: Target variable\n",
    "# test_size=0.2: 20% of the data will be used for testing, and 80% for training\n",
    "\n",
    "X_train, X_test, y_train, y_test = train_test_split(X, y, test_size=0.2)"
   ]
  },
  {
   "cell_type": "code",
   "execution_count": 10,
   "id": "010a618c",
   "metadata": {},
   "outputs": [],
   "source": [
    "# Creating a Gradient Boosting Regressor model with specified parameters\n",
    "# max_depth=2: Maximum depth of the individual trees in the ensemble is set to 2.\n",
    "# n_estimators=3: The number of boosting stages (trees) to be run is set to 3.\n",
    "# learning_rate=1: The step size at each iteration while moving toward a minimum of the loss function is set to 1.\n",
    "\n",
    "# Training the model with the training set\n",
    "model = GradientBoostingRegressor(max_depth = 2, n_estimators=3, learning_rate=1).fit(X_train, y_train)"
   ]
  },
  {
   "cell_type": "code",
   "execution_count": 11,
   "id": "55bfb719",
   "metadata": {},
   "outputs": [],
   "source": [
    "# Making predictions on the test set using the trained Gradient Boosting Regressor model\n",
    "y_pred = model.predict(X_test)"
   ]
  },
  {
   "cell_type": "code",
   "execution_count": 12,
   "id": "c5397e13",
   "metadata": {},
   "outputs": [
    {
     "data": {
      "text/plain": [
       "0.2911656593593447"
      ]
     },
     "execution_count": 12,
     "metadata": {},
     "output_type": "execute_result"
    }
   ],
   "source": [
    "# Calculating the R-squared score to evaluate the performance of the model\n",
    "r2_score(y_pred, y_test)"
   ]
  },
  {
   "cell_type": "code",
   "execution_count": 16,
   "id": "38940b7e",
   "metadata": {},
   "outputs": [
    {
     "data": {
      "image/png": "[encoded data removed]",
      "text/plain": [
       "<Figure size 640x480 with 1 Axes>"
      ]
     },
     "metadata": {},
     "output_type": "display_data"
    }
   ],
   "source": [
    "# Extracting feature importances from the trained Gradient Boosting Regressor model\n",
    "feature_importance = model.feature_importances_\n",
    "\n",
    "# Normalizing feature importances to be in the range [0, 100]\n",
    "feature_importance = 100.0*(feature_importance/feature_importance.max())\n",
    "\n",
    "# Sorting features based on their importance\n",
    "sorted_idx = np.argsort(feature_importance)\n",
    "\n",
    "# Creating positions for the horizontal bar chart\n",
    "pos= np.arange(sorted_idx.shape[0])+.5\n",
    "\n",
    "# Convert california.feature_names to a NumPy array\n",
    "feature_names_array = np.array(california.feature_names)\n",
    "\n",
    "# Plotting a horizontal bar chart to visualize feature importances\n",
    "plt.barh(pos, feature_importance[sorted_idx], align='center')\n",
    "\n",
    "# Setting y-axis ticks with feature names based on the sorted order\n",
    "plt.yticks(pos, feature_names_array[sorted_idx]);"
   ]
  },
  {
   "cell_type": "code",
   "execution_count": 19,
   "id": "dc4e8f8a",
   "metadata": {},
   "outputs": [
    {
     "data": {
      "text/plain": [
       "({'learning_rate': 0.15, 'n_estimators': 250}, 0.8186502379782258)"
      ]
     },
     "execution_count": 19,
     "metadata": {},
     "output_type": "execute_result"
    }
   ],
   "source": [
    "# Define a dictionary of hyperparameters for the GridSearchCV\n",
    "LR = {'learning_rate': [0.15, 0.1, 0.10,0.05], 'n_estimators':[100,150,200,250]}\n",
    "\n",
    "# Create a GridSearchCV object for hyperparameter tuning\n",
    "# estimator=GradientBoostingRegressor(): The base model is GradientBoostingRegressor.\n",
    "# param_grid=LR: The hyperparameter grid to search over, which includes learning_rate and n_estimators.\n",
    "# scoring='r2': The scoring metric used for evaluating the models is R-squared.\n",
    "tuning= GridSearchCV(estimator = GradientBoostingRegressor(), \n",
    "                    param_grid = LR, scoring='r2')\n",
    "\n",
    "\n",
    "# Fit the GridSearchCV object on the training data\n",
    "tuning.fit(X_train, y_train)\n",
    "\n",
    "# Retrieve the best hyperparameters and the corresponding best R-squared score\n",
    "tuning.best_params_, tuning.best_score_"
   ]
  }
 ],
 "metadata": {
  "kernelspec": {
   "display_name": "Python 3 (ipykernel)",
   "language": "python",
   "name": "python3"
  },
  "language_info": {
   "codemirror_mode": {
    "name": "ipython",
    "version": 3
   },
   "file_extension": ".py",
   "mimetype": "text/x-python",
   "name": "python",
   "nbconvert_exporter": "python",
   "pygments_lexer": "ipython3",
   "version": "3.11.5"
  }
 },
 "nbformat": 4,
 "nbformat_minor": 5
}
